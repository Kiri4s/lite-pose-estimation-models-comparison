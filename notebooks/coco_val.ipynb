{
 "cells": [
  {
   "cell_type": "code",
   "execution_count": null,
   "metadata": {},
   "outputs": [],
   "source": [
    "from pycocotools.coco import COCO\n",
    "from pycocotools.cocoeval import COCOeval\n",
    "import json\n",
    "import numpy as np"
   ]
  },
  {
   "cell_type": "code",
   "execution_count": 32,
   "metadata": {},
   "outputs": [],
   "source": [
    "import sys\n",
    "sys.path.append(\"../metrics/\")\n",
    "from PCK_Accuracy import pck_accuracy_4_every_keypoint"
   ]
  },
  {
   "cell_type": "code",
   "execution_count": 30,
   "metadata": {},
   "outputs": [
    {
     "name": "stdout",
     "output_type": "stream",
     "text": [
      "loading annotations into memory...\n",
      "Done (t=0.13s)\n",
      "creating index...\n",
      "index created!\n",
      "Loading and preparing results...\n",
      "DONE (t=0.05s)\n",
      "creating index...\n",
      "index created!\n"
     ]
    }
   ],
   "source": [
    "coco_gt = COCO(\"../coco/annotations/person_keypoints_val2017.json\")\n",
    "coco_dt = coco_gt.loadRes(\"../yolov11n-pose/coco_val_predictions.json\")"
   ]
  },
  {
   "cell_type": "code",
   "execution_count": 38,
   "metadata": {},
   "outputs": [
    {
     "name": "stdout",
     "output_type": "stream",
     "text": [
      "Keypoint Metrics:\n",
      "-----------------\n",
      "nose:\n",
      "  PCK@0.1 = 0.9567\n",
      "  Accuracy (10px) = 0.9407\n",
      "left_eye:\n",
      "  PCK@0.1 = 0.9504\n",
      "  Accuracy (10px) = 0.9398\n",
      "right_eye:\n",
      "  PCK@0.1 = 0.9529\n",
      "  Accuracy (10px) = 0.9399\n",
      "left_ear:\n",
      "  PCK@0.1 = 0.9041\n",
      "  Accuracy (10px) = 0.8698\n",
      "right_ear:\n",
      "  PCK@0.1 = 0.9047\n",
      "  Accuracy (10px) = 0.8697\n",
      "left_shoulder:\n",
      "  PCK@0.1 = 0.8413\n",
      "  Accuracy (10px) = 0.7786\n",
      "right_shoulder:\n",
      "  PCK@0.1 = 0.8385\n",
      "  Accuracy (10px) = 0.7783\n",
      "left_elbow:\n",
      "  PCK@0.1 = 0.7444\n",
      "  Accuracy (10px) = 0.7167\n",
      "right_elbow:\n",
      "  PCK@0.1 = 0.7463\n",
      "  Accuracy (10px) = 0.7166\n",
      "left_wrist:\n",
      "  PCK@0.1 = 0.6955\n",
      "  Accuracy (10px) = 0.6754\n",
      "right_wrist:\n",
      "  PCK@0.1 = 0.7030\n",
      "  Accuracy (10px) = 0.6658\n",
      "left_hip:\n",
      "  PCK@0.1 = 0.6593\n",
      "  Accuracy (10px) = 0.6527\n",
      "right_hip:\n",
      "  PCK@0.1 = 0.6711\n",
      "  Accuracy (10px) = 0.6498\n",
      "left_knee:\n",
      "  PCK@0.1 = 0.6395\n",
      "  Accuracy (10px) = 0.6540\n",
      "right_knee:\n",
      "  PCK@0.1 = 0.6347\n",
      "  Accuracy (10px) = 0.6563\n",
      "left_ankle:\n",
      "  PCK@0.1 = 0.6041\n",
      "  Accuracy (10px) = 0.6412\n",
      "right_ankle:\n",
      "  PCK@0.1 = 0.6036\n",
      "  Accuracy (10px) = 0.6444\n"
     ]
    }
   ],
   "source": [
    "pck_accuracy_4_every_keypoint(coco_gt, coco_dt)"
   ]
  },
  {
   "cell_type": "code",
   "execution_count": 33,
   "metadata": {},
   "outputs": [
    {
     "name": "stdout",
     "output_type": "stream",
     "text": [
      "Running per image evaluation...\n",
      "Evaluate annotation type *keypoints*\n",
      "DONE (t=1.34s).\n",
      "Accumulating evaluation results...\n",
      "DONE (t=0.04s).\n",
      " Average Precision  (AP) @[ IoU=0.50:0.95 | area=   all | maxDets= 20 ] = 0.398\n",
      " Average Precision  (AP) @[ IoU=0.50      | area=   all | maxDets= 20 ] = 0.694\n",
      " Average Precision  (AP) @[ IoU=0.75      | area=   all | maxDets= 20 ] = 0.400\n",
      " Average Precision  (AP) @[ IoU=0.50:0.95 | area=medium | maxDets= 20 ] = 0.331\n",
      " Average Precision  (AP) @[ IoU=0.50:0.95 | area= large | maxDets= 20 ] = 0.520\n",
      " Average Recall     (AR) @[ IoU=0.50:0.95 | area=   all | maxDets= 20 ] = 0.473\n",
      " Average Recall     (AR) @[ IoU=0.50      | area=   all | maxDets= 20 ] = 0.734\n",
      " Average Recall     (AR) @[ IoU=0.75      | area=   all | maxDets= 20 ] = 0.496\n",
      " Average Recall     (AR) @[ IoU=0.50:0.95 | area=medium | maxDets= 20 ] = 0.373\n",
      " Average Recall     (AR) @[ IoU=0.50:0.95 | area= large | maxDets= 20 ] = 0.613\n"
     ]
    }
   ],
   "source": [
    "coco_eval = COCOeval(coco_gt, coco_dt, \"keypoints\")\n",
    "coco_eval.evaluate()\n",
    "coco_eval.accumulate()\n",
    "coco_eval.summarize()"
   ]
  },
  {
   "cell_type": "code",
   "execution_count": 34,
   "metadata": {},
   "outputs": [],
   "source": [
    "with open(\"../yolov11n-pose/latency.json\", 'r') as f:\n",
    "    time = json.load(f)"
   ]
  },
  {
   "cell_type": "code",
   "execution_count": 35,
   "metadata": {},
   "outputs": [
    {
     "name": "stdout",
     "output_type": "stream",
     "text": [
      "0.058800346064558404\n",
      "0.12050175666809082\n",
      "0.022845983505249023\n"
     ]
    }
   ],
   "source": [
    "print(np.mean(time))\n",
    "print(np.max(time))\n",
    "print(np.min(time))"
   ]
  },
  {
   "cell_type": "code",
   "execution_count": 36,
   "metadata": {},
   "outputs": [
    {
     "name": "stdout",
     "output_type": "stream",
     "text": [
      "loading annotations into memory...\n",
      "Done (t=0.13s)\n",
      "creating index...\n",
      "index created!\n",
      "Loading and preparing results...\n",
      "DONE (t=0.17s)\n",
      "creating index...\n",
      "index created!\n"
     ]
    }
   ],
   "source": [
    "coco_gt = COCO(\"../coco/annotations/person_keypoints_val2017.json\")\n",
    "coco_dt_lw = coco_gt.loadRes(\"../lightweight-human-pose-estimation/detections.json\")"
   ]
  },
  {
   "cell_type": "code",
   "execution_count": 39,
   "metadata": {},
   "outputs": [
    {
     "name": "stdout",
     "output_type": "stream",
     "text": [
      "Keypoint Metrics:\n",
      "-----------------\n",
      "nose:\n",
      "  PCK@0.1 = 0.9538\n",
      "  Accuracy (10px) = 0.9702\n",
      "left_eye:\n",
      "  PCK@0.1 = 0.9584\n",
      "  Accuracy (10px) = 0.9739\n",
      "right_eye:\n",
      "  PCK@0.1 = 0.9442\n",
      "  Accuracy (10px) = 0.9591\n",
      "left_ear:\n",
      "  PCK@0.1 = 0.9501\n",
      "  Accuracy (10px) = 0.9518\n",
      "right_ear:\n",
      "  PCK@0.1 = 0.9344\n",
      "  Accuracy (10px) = 0.9415\n",
      "left_shoulder:\n",
      "  PCK@0.1 = 0.8721\n",
      "  Accuracy (10px) = 0.8552\n",
      "right_shoulder:\n",
      "  PCK@0.1 = 0.8736\n",
      "  Accuracy (10px) = 0.8458\n",
      "left_elbow:\n",
      "  PCK@0.1 = 0.7887\n",
      "  Accuracy (10px) = 0.8060\n",
      "right_elbow:\n",
      "  PCK@0.1 = 0.7930\n",
      "  Accuracy (10px) = 0.8182\n",
      "left_wrist:\n",
      "  PCK@0.1 = 0.7219\n",
      "  Accuracy (10px) = 0.7434\n",
      "right_wrist:\n",
      "  PCK@0.1 = 0.7165\n",
      "  Accuracy (10px) = 0.7467\n",
      "left_hip:\n",
      "  PCK@0.1 = 0.7045\n",
      "  Accuracy (10px) = 0.6973\n",
      "right_hip:\n",
      "  PCK@0.1 = 0.7016\n",
      "  Accuracy (10px) = 0.7007\n",
      "left_knee:\n",
      "  PCK@0.1 = 0.7579\n",
      "  Accuracy (10px) = 0.8007\n",
      "right_knee:\n",
      "  PCK@0.1 = 0.7623\n",
      "  Accuracy (10px) = 0.7956\n",
      "left_ankle:\n",
      "  PCK@0.1 = 0.7390\n",
      "  Accuracy (10px) = 0.7835\n",
      "right_ankle:\n",
      "  PCK@0.1 = 0.7328\n",
      "  Accuracy (10px) = 0.7606\n"
     ]
    }
   ],
   "source": [
    "pck_accuracy_4_every_keypoint(coco_gt, coco_dt_lw)"
   ]
  },
  {
   "cell_type": "code",
   "execution_count": 40,
   "metadata": {},
   "outputs": [
    {
     "name": "stdout",
     "output_type": "stream",
     "text": [
      "Running per image evaluation...\n",
      "Evaluate annotation type *keypoints*\n",
      "DONE (t=1.93s).\n",
      "Accumulating evaluation results...\n",
      "DONE (t=0.04s).\n",
      " Average Precision  (AP) @[ IoU=0.50:0.95 | area=   all | maxDets= 20 ] = 0.400\n",
      " Average Precision  (AP) @[ IoU=0.50      | area=   all | maxDets= 20 ] = 0.659\n",
      " Average Precision  (AP) @[ IoU=0.75      | area=   all | maxDets= 20 ] = 0.407\n",
      " Average Precision  (AP) @[ IoU=0.50:0.95 | area=medium | maxDets= 20 ] = 0.338\n",
      " Average Precision  (AP) @[ IoU=0.50:0.95 | area= large | maxDets= 20 ] = 0.493\n",
      " Average Recall     (AR) @[ IoU=0.50:0.95 | area=   all | maxDets= 20 ] = 0.461\n",
      " Average Recall     (AR) @[ IoU=0.50      | area=   all | maxDets= 20 ] = 0.697\n",
      " Average Recall     (AR) @[ IoU=0.75      | area=   all | maxDets= 20 ] = 0.476\n",
      " Average Recall     (AR) @[ IoU=0.50:0.95 | area=medium | maxDets= 20 ] = 0.359\n",
      " Average Recall     (AR) @[ IoU=0.50:0.95 | area= large | maxDets= 20 ] = 0.605\n"
     ]
    }
   ],
   "source": [
    "coco_eval = COCOeval(coco_gt, coco_dt_lw, \"keypoints\")\n",
    "coco_eval.evaluate()\n",
    "coco_eval.accumulate()\n",
    "coco_eval.summarize()"
   ]
  },
  {
   "cell_type": "code",
   "execution_count": 42,
   "metadata": {},
   "outputs": [
    {
     "name": "stdout",
     "output_type": "stream",
     "text": [
      "0.21455205392837523\n",
      "0.770751953125\n",
      "0.13583159446716309\n"
     ]
    }
   ],
   "source": [
    "with open(\"../lightweight-human-pose-estimation/latency.json\", 'r') as f:\n",
    "    time_lw = json.load(f)\n",
    "print(np.mean(time_lw))\n",
    "print(np.max(time_lw))\n",
    "print(np.min(time_lw))"
   ]
  },
  {
   "cell_type": "code",
   "execution_count": 43,
   "metadata": {},
   "outputs": [
    {
     "name": "stdout",
     "output_type": "stream",
     "text": [
      "loading annotations into memory...\n",
      "Done (t=0.13s)\n",
      "creating index...\n",
      "index created!\n",
      "Loading and preparing results...\n",
      "DONE (t=0.03s)\n",
      "creating index...\n",
      "index created!\n"
     ]
    }
   ],
   "source": [
    "coco_gt = COCO(\"../coco/annotations/person_keypoints_val2017.json\")\n",
    "coco_dt_mn = coco_gt.loadRes(\"../MoveNet/coco_test_predictions.json\")"
   ]
  },
  {
   "cell_type": "code",
   "execution_count": 44,
   "metadata": {},
   "outputs": [
    {
     "name": "stdout",
     "output_type": "stream",
     "text": [
      "Keypoint Metrics:\n",
      "-----------------\n",
      "nose:\n",
      "  PCK@0.1 = 0.8569\n",
      "  Accuracy (10px) = 0.6381\n",
      "left_eye:\n",
      "  PCK@0.1 = 0.8724\n",
      "  Accuracy (10px) = 0.6512\n",
      "right_eye:\n",
      "  PCK@0.1 = 0.8819\n",
      "  Accuracy (10px) = 0.6630\n",
      "left_ear:\n",
      "  PCK@0.1 = 0.8302\n",
      "  Accuracy (10px) = 0.6094\n",
      "right_ear:\n",
      "  PCK@0.1 = 0.8214\n",
      "  Accuracy (10px) = 0.5878\n",
      "left_shoulder:\n",
      "  PCK@0.1 = 0.7210\n",
      "  Accuracy (10px) = 0.4530\n",
      "right_shoulder:\n",
      "  PCK@0.1 = 0.7164\n",
      "  Accuracy (10px) = 0.4706\n",
      "left_elbow:\n",
      "  PCK@0.1 = 0.6504\n",
      "  Accuracy (10px) = 0.4336\n",
      "right_elbow:\n",
      "  PCK@0.1 = 0.6465\n",
      "  Accuracy (10px) = 0.4315\n",
      "left_wrist:\n",
      "  PCK@0.1 = 0.6412\n",
      "  Accuracy (10px) = 0.4233\n",
      "right_wrist:\n",
      "  PCK@0.1 = 0.6472\n",
      "  Accuracy (10px) = 0.4232\n",
      "left_hip:\n",
      "  PCK@0.1 = 0.6062\n",
      "  Accuracy (10px) = 0.3953\n",
      "right_hip:\n",
      "  PCK@0.1 = 0.5818\n",
      "  Accuracy (10px) = 0.3968\n",
      "left_knee:\n",
      "  PCK@0.1 = 0.5796\n",
      "  Accuracy (10px) = 0.4447\n",
      "right_knee:\n",
      "  PCK@0.1 = 0.6089\n",
      "  Accuracy (10px) = 0.4621\n",
      "left_ankle:\n",
      "  PCK@0.1 = 0.5880\n",
      "  Accuracy (10px) = 0.4852\n",
      "right_ankle:\n",
      "  PCK@0.1 = 0.6043\n",
      "  Accuracy (10px) = 0.4803\n"
     ]
    }
   ],
   "source": [
    "pck_accuracy_4_every_keypoint(coco_gt, coco_dt_mn)"
   ]
  },
  {
   "cell_type": "code",
   "execution_count": 45,
   "metadata": {},
   "outputs": [
    {
     "name": "stdout",
     "output_type": "stream",
     "text": [
      "Running per image evaluation...\n",
      "Evaluate annotation type *keypoints*\n",
      "DONE (t=0.78s).\n",
      "Accumulating evaluation results...\n",
      "DONE (t=0.03s).\n",
      " Average Precision  (AP) @[ IoU=0.50:0.95 | area=   all | maxDets= 20 ] = 0.110\n",
      " Average Precision  (AP) @[ IoU=0.50      | area=   all | maxDets= 20 ] = 0.228\n",
      " Average Precision  (AP) @[ IoU=0.75      | area=   all | maxDets= 20 ] = 0.091\n",
      " Average Precision  (AP) @[ IoU=0.50:0.95 | area=medium | maxDets= 20 ] = 0.023\n",
      " Average Precision  (AP) @[ IoU=0.50:0.95 | area= large | maxDets= 20 ] = 0.227\n",
      " Average Recall     (AR) @[ IoU=0.50:0.95 | area=   all | maxDets= 20 ] = 0.151\n",
      " Average Recall     (AR) @[ IoU=0.50      | area=   all | maxDets= 20 ] = 0.275\n",
      " Average Recall     (AR) @[ IoU=0.75      | area=   all | maxDets= 20 ] = 0.142\n",
      " Average Recall     (AR) @[ IoU=0.50:0.95 | area=medium | maxDets= 20 ] = 0.027\n",
      " Average Recall     (AR) @[ IoU=0.50:0.95 | area= large | maxDets= 20 ] = 0.321\n"
     ]
    }
   ],
   "source": [
    "coco_eval = COCOeval(coco_gt, coco_dt_mn, \"keypoints\")\n",
    "coco_eval.evaluate()\n",
    "coco_eval.accumulate()\n",
    "coco_eval.summarize()"
   ]
  },
  {
   "cell_type": "code",
   "execution_count": 47,
   "metadata": {},
   "outputs": [
    {
     "name": "stdout",
     "output_type": "stream",
     "text": [
      "0.025126814430052165\n",
      "0.3136110305786133\n",
      "0.018565893173217773\n"
     ]
    }
   ],
   "source": [
    "with open(\"../MoveNet/latency.json\", 'r') as f:\n",
    "    time_mn = json.load(f)\n",
    "print(np.mean(time_mn))\n",
    "print(np.max(time_mn))\n",
    "print(np.min(time_mn))"
   ]
  }
 ],
 "metadata": {
  "kernelspec": {
   "display_name": ".venv",
   "language": "python",
   "name": "python3"
  },
  "language_info": {
   "codemirror_mode": {
    "name": "ipython",
    "version": 3
   },
   "file_extension": ".py",
   "mimetype": "text/x-python",
   "name": "python",
   "nbconvert_exporter": "python",
   "pygments_lexer": "ipython3",
   "version": "3.10.7"
  }
 },
 "nbformat": 4,
 "nbformat_minor": 2
}
