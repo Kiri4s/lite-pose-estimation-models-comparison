{
 "cells": [
  {
   "cell_type": "code",
   "execution_count": 1,
   "metadata": {},
   "outputs": [],
   "source": [
    "from crowdposetools.coco import COCO\n",
    "from crowdposetools.cocoeval import COCOeval\n",
    "import json\n",
    "import numpy as np\n"
   ]
  },
  {
   "cell_type": "code",
   "execution_count": null,
   "metadata": {},
   "outputs": [
    {
     "name": "stdout",
     "output_type": "stream",
     "text": [
      "loading annotations into memory...\n",
      "Done (t=0.33s)\n",
      "creating index...\n",
      "index created!\n",
      "Loading and preparing results...\n",
      "DONE (t=0.35s)\n",
      "creating index...\n",
      "index created!\n"
     ]
    }
   ],
   "source": [
    "annotation_file = '../CrowdPose/dataset/labels/annotations_json/crowdpose_test.json'\n",
    "results_file = '../yolov11n-pose/results/crowdpose_test_predictions.json'\n",
    "\n",
    "# Load the ground truth data\n",
    "coco_gt = COCO(annotation_file)\n",
    "coco_dt = coco_gt.loadRes(results_file)"
   ]
  },
  {
   "cell_type": "code",
   "execution_count": 6,
   "metadata": {},
   "outputs": [
    {
     "name": "stdout",
     "output_type": "stream",
     "text": [
      "Running per image evaluation...\n",
      "Evaluate annotation type *keypoints*\n",
      "DONE (t=4.68s).\n",
      "Accumulating evaluation results...\n",
      "DONE (t=0.20s).\n",
      " Average Precision  (AP) @[ IoU=0.50:0.95 | area=   all | maxDets= 20 ] = 0.354\n",
      " Average Precision  (AP) @[ IoU=0.50      | area=   all | maxDets= 20 ] = 0.692\n",
      " Average Precision  (AP) @[ IoU=0.75      | area=   all | maxDets= 20 ] = 0.324\n",
      " Average Recall     (AR) @[ IoU=0.50:0.95 | area=   all | maxDets= 20 ] = 0.436\n",
      " Average Recall     (AR) @[ IoU=0.50      | area=   all | maxDets= 20 ] = 0.743\n",
      " Average Recall     (AR) @[ IoU=0.75      | area=   all | maxDets= 20 ] = 0.440\n",
      " Average Recall     (AR) @[ IoU=0.50:0.95 | type=  easy | maxDets= 20 ] = 0.437\n",
      " Average Recall     (AR) @[ IoU=0.50:0.95 | type=medium | maxDets= 20 ] = 0.360\n",
      " Average Recall     (AR) @[ IoU=0.50:0.95 | type=  hard | maxDets= 20 ] = 0.273\n"
     ]
    }
   ],
   "source": [
    "coco_eval = COCOeval(coco_gt, coco_dt, 'keypoints')\n",
    "coco_eval.evaluate()\n",
    "coco_eval.accumulate()\n",
    "coco_eval.summarize()"
   ]
  },
  {
   "cell_type": "code",
   "execution_count": 7,
   "metadata": {},
   "outputs": [
    {
     "name": "stdout",
     "output_type": "stream",
     "text": [
      "0.0747420056760311\n",
      "0.7420132160186768\n",
      "0.04501986503601074\n"
     ]
    }
   ],
   "source": [
    "with open(\"../yolov11n-pose/results/latency_crowdpose.json\", 'r') as f:\n",
    "    time = json.load(f)\n",
    "\n",
    "print(np.mean(time))\n",
    "print(np.max(time))\n",
    "print(np.min(time))"
   ]
  },
  {
   "cell_type": "code",
   "execution_count": null,
   "metadata": {},
   "outputs": [
    {
     "name": "stdout",
     "output_type": "stream",
     "text": [
      "loading annotations into memory...\n",
      "Done (t=0.30s)\n",
      "creating index...\n",
      "index created!\n",
      "Loading and preparing results...\n",
      "DONE (t=0.30s)\n",
      "creating index...\n",
      "index created!\n"
     ]
    }
   ],
   "source": [
    "annotation_file = '../CrowdPose/dataset/labels/annotations_json/crowdpose_test.json'\n",
    "results_file = '../yolov11n-pose/results/hardcrowdpose_test_predictions.json'\n",
    "\n",
    "# Load the ground truth data\n",
    "coco_gt = COCO(annotation_file)\n",
    "coco_hdt = coco_gt.loadRes(results_file)"
   ]
  },
  {
   "cell_type": "code",
   "execution_count": 4,
   "metadata": {},
   "outputs": [
    {
     "name": "stdout",
     "output_type": "stream",
     "text": [
      "Running per image evaluation...\n",
      "Evaluate annotation type *keypoints*\n",
      "DONE (t=4.30s).\n",
      "Accumulating evaluation results...\n",
      "DONE (t=0.33s).\n",
      " Average Precision  (AP) @[ IoU=0.50:0.95 | area=   all | maxDets= 20 ] = 0.323\n",
      " Average Precision  (AP) @[ IoU=0.50      | area=   all | maxDets= 20 ] = 0.675\n",
      " Average Precision  (AP) @[ IoU=0.75      | area=   all | maxDets= 20 ] = 0.274\n",
      " Average Recall     (AR) @[ IoU=0.50:0.95 | area=   all | maxDets= 20 ] = 0.422\n",
      " Average Recall     (AR) @[ IoU=0.50      | area=   all | maxDets= 20 ] = 0.756\n",
      " Average Recall     (AR) @[ IoU=0.75      | area=   all | maxDets= 20 ] = 0.416\n",
      " Average Recall     (AR) @[ IoU=0.50:0.95 | type=  easy | maxDets= 20 ] = 0.424\n",
      " Average Recall     (AR) @[ IoU=0.50:0.95 | type=medium | maxDets= 20 ] = 0.331\n",
      " Average Recall     (AR) @[ IoU=0.50:0.95 | type=  hard | maxDets= 20 ] = 0.224\n"
     ]
    }
   ],
   "source": [
    "coco_eval = COCOeval(coco_gt, coco_hdt, 'keypoints')\n",
    "coco_eval.evaluate()\n",
    "coco_eval.accumulate()\n",
    "coco_eval.summarize()"
   ]
  },
  {
   "cell_type": "code",
   "execution_count": 8,
   "metadata": {},
   "outputs": [
    {
     "name": "stdout",
     "output_type": "stream",
     "text": [
      "0.06765213775634765\n",
      "0.6019818782806396\n",
      "0.03556394577026367\n"
     ]
    }
   ],
   "source": [
    "with open(\"../yolov11n-pose/results/hardlatency_crowdpose.json\", 'r') as f:\n",
    "    time = json.load(f)\n",
    "\n",
    "print(np.mean(time))\n",
    "print(np.max(time))\n",
    "print(np.min(time))"
   ]
  },
  {
   "cell_type": "code",
   "execution_count": null,
   "metadata": {},
   "outputs": [
    {
     "name": "stdout",
     "output_type": "stream",
     "text": [
      "loading annotations into memory...\n",
      "Done (t=0.41s)\n",
      "creating index...\n",
      "index created!\n",
      "Loading and preparing results...\n",
      "DONE (t=0.41s)\n",
      "creating index...\n",
      "index created!\n"
     ]
    }
   ],
   "source": [
    "annotation_file = '../CrowdPose/dataset/labels/annotations_json/crowdpose_test.json'\n",
    "results_file = '../yolov11n-pose/results/crowdpose_test_predictions1.json'\n",
    "\n",
    "# Load the ground truth data\n",
    "coco_gt = COCO(annotation_file)\n",
    "coco_dt1 = coco_gt.loadRes(results_file)"
   ]
  },
  {
   "cell_type": "code",
   "execution_count": 11,
   "metadata": {},
   "outputs": [
    {
     "name": "stdout",
     "output_type": "stream",
     "text": [
      "Running per image evaluation...\n",
      "Evaluate annotation type *keypoints*\n",
      "DONE (t=4.83s).\n",
      "Accumulating evaluation results...\n",
      "DONE (t=0.18s).\n",
      " Average Precision  (AP) @[ IoU=0.50:0.95 | area=   all | maxDets= 20 ] = 0.107\n",
      " Average Precision  (AP) @[ IoU=0.50      | area=   all | maxDets= 20 ] = 0.390\n",
      " Average Precision  (AP) @[ IoU=0.75      | area=   all | maxDets= 20 ] = 0.018\n",
      " Average Recall     (AR) @[ IoU=0.50:0.95 | area=   all | maxDets= 20 ] = 0.186\n",
      " Average Recall     (AR) @[ IoU=0.50      | area=   all | maxDets= 20 ] = 0.530\n",
      " Average Recall     (AR) @[ IoU=0.75      | area=   all | maxDets= 20 ] = 0.086\n",
      " Average Recall     (AR) @[ IoU=0.50:0.95 | type=  easy | maxDets= 20 ] = 0.138\n",
      " Average Recall     (AR) @[ IoU=0.50:0.95 | type=medium | maxDets= 20 ] = 0.111\n",
      " Average Recall     (AR) @[ IoU=0.50:0.95 | type=  hard | maxDets= 20 ] = 0.074\n"
     ]
    }
   ],
   "source": [
    "coco_eval = COCOeval(coco_gt, coco_dt1, 'keypoints')\n",
    "coco_eval.evaluate()\n",
    "coco_eval.accumulate()\n",
    "coco_eval.summarize()"
   ]
  },
  {
   "cell_type": "code",
   "execution_count": 12,
   "metadata": {},
   "outputs": [
    {
     "name": "stdout",
     "output_type": "stream",
     "text": [
      "0.06542621371150016\n",
      "0.580132007598877\n",
      "0.03497028350830078\n"
     ]
    }
   ],
   "source": [
    "with open(\"../yolov11n-pose/results/latency_crowdpose1.json\", 'r') as f:\n",
    "    time = json.load(f)\n",
    "\n",
    "print(np.mean(time))\n",
    "print(np.max(time))\n",
    "print(np.min(time))"
   ]
  },
  {
   "cell_type": "code",
   "execution_count": null,
   "metadata": {},
   "outputs": [
    {
     "name": "stdout",
     "output_type": "stream",
     "text": [
      "loading annotations into memory...\n",
      "Done (t=0.47s)\n",
      "creating index...\n",
      "index created!\n",
      "Loading and preparing results...\n",
      "DONE (t=0.29s)\n",
      "creating index...\n",
      "index created!\n"
     ]
    }
   ],
   "source": [
    "annotation_file = '../CrowdPose/dataset/labels/annotations_json/crowdpose_test.json'\n",
    "results_file = '../yolov11n-pose/results/crowdpose_test_predictions10+.json'\n",
    "\n",
    "# Load the ground truth data\n",
    "coco_gt = COCO(annotation_file)\n",
    "coco_dt10_ = coco_gt.loadRes(results_file)"
   ]
  },
  {
   "cell_type": "code",
   "execution_count": 14,
   "metadata": {},
   "outputs": [
    {
     "name": "stdout",
     "output_type": "stream",
     "text": [
      "Running per image evaluation...\n",
      "Evaluate annotation type *keypoints*\n",
      "DONE (t=4.78s).\n",
      "Accumulating evaluation results...\n",
      "DONE (t=0.16s).\n",
      " Average Precision  (AP) @[ IoU=0.50:0.95 | area=   all | maxDets= 20 ] = 0.383\n",
      " Average Precision  (AP) @[ IoU=0.50      | area=   all | maxDets= 20 ] = 0.706\n",
      " Average Precision  (AP) @[ IoU=0.75      | area=   all | maxDets= 20 ] = 0.369\n",
      " Average Recall     (AR) @[ IoU=0.50:0.95 | area=   all | maxDets= 20 ] = 0.461\n",
      " Average Recall     (AR) @[ IoU=0.50      | area=   all | maxDets= 20 ] = 0.753\n",
      " Average Recall     (AR) @[ IoU=0.75      | area=   all | maxDets= 20 ] = 0.474\n",
      " Average Recall     (AR) @[ IoU=0.50:0.95 | type=  easy | maxDets= 20 ] = 0.465\n",
      " Average Recall     (AR) @[ IoU=0.50:0.95 | type=medium | maxDets= 20 ] = 0.388\n",
      " Average Recall     (AR) @[ IoU=0.50:0.95 | type=  hard | maxDets= 20 ] = 0.304\n"
     ]
    }
   ],
   "source": [
    "coco_eval = COCOeval(coco_gt, coco_dt10_, 'keypoints')\n",
    "coco_eval.evaluate()\n",
    "coco_eval.accumulate()\n",
    "coco_eval.summarize()"
   ]
  },
  {
   "cell_type": "code",
   "execution_count": 15,
   "metadata": {},
   "outputs": [
    {
     "name": "stdout",
     "output_type": "stream",
     "text": [
      "0.06584941175580025\n",
      "0.6037700176239014\n",
      "0.0375370979309082\n"
     ]
    }
   ],
   "source": [
    "with open(\"../yolov11n-pose/results/latency_crowdpose10+.json\", 'r') as f:\n",
    "    time = json.load(f)\n",
    "\n",
    "print(np.mean(time))\n",
    "print(np.max(time))\n",
    "print(np.min(time))"
   ]
  }
 ],
 "metadata": {
  "kernelspec": {
   "display_name": ".venv",
   "language": "python",
   "name": "python3"
  },
  "language_info": {
   "codemirror_mode": {
    "name": "ipython",
    "version": 3
   },
   "file_extension": ".py",
   "mimetype": "text/x-python",
   "name": "python",
   "nbconvert_exporter": "python",
   "pygments_lexer": "ipython3",
   "version": "3.10.7"
  }
 },
 "nbformat": 4,
 "nbformat_minor": 2
}
